{
  "cells": [
    {
      "cell_type": "markdown",
      "metadata": {
        "id": "view-in-github",
        "colab_type": "text"
      },
      "source": [
        "<a href=\"https://colab.research.google.com/github/kalona/net.jgp.books.spark.ch01/blob/master/src/main/python/csv_to_df.ipynb\" target=\"_parent\"><img src=\"https://colab.research.google.com/assets/colab-badge.svg\" alt=\"Open In Colab\"/></a>"
      ]
    },
    {
      "cell_type": "code",
      "execution_count": 9,
      "id": "initial_id",
      "metadata": {
        "collapsed": true,
        "id": "initial_id"
      },
      "outputs": [],
      "source": [
        "\"\"\"\n",
        "CsvToDataframeApp.py - CSV ingestion in a dataframe.\n",
        "@author rambabu.posa\n",
        "\"\"\"\n",
        "from pyspark.sql import SparkSession\n",
        "import os\n",
        "\n",
        "current_dir = os.getcwd()\n",
        "relative_path = \"/content/books.csv\"\n",
        "absolute_file_path = os.path.join(current_dir, relative_path)\n",
        "\n",
        "# Creates a session on a local master\n",
        "session = SparkSession.builder.appName(\"CSV to Dataset\").master(\"local[*]\").getOrCreate()"
      ]
    },
    {
      "cell_type": "code",
      "source": [
        "\n",
        "# Reads a CSV file with header, called books.csv, stores it in a dataframe\n",
        "df = session.read.csv(header=True, inferSchema=True, path=absolute_file_path)"
      ],
      "metadata": {
        "id": "mVgiyZL3hdMq"
      },
      "id": "mVgiyZL3hdMq",
      "execution_count": 10,
      "outputs": []
    },
    {
      "cell_type": "code",
      "source": [
        "# Shows at most 5 rows from the dataframe\n",
        "df.show(5)"
      ],
      "metadata": {
        "id": "s6iBEI06hfuj",
        "outputId": "0bcd0fb9-ea18-4b6b-d892-f2ae1a7b8423",
        "colab": {
          "base_uri": "https://localhost:8080/"
        }
      },
      "id": "s6iBEI06hfuj",
      "execution_count": 11,
      "outputs": [
        {
          "output_type": "stream",
          "name": "stdout",
          "text": [
            "+---+--------+--------------------+-----------+--------------------+\n",
            "| id|authorId|               title|releaseDate|                link|\n",
            "+---+--------+--------------------+-----------+--------------------+\n",
            "|  1|       1|Fantastic Beasts ...|   11/18/16|http://amzn.to/2k...|\n",
            "|  2|       1|Harry Potter and ...|    10/6/15|http://amzn.to/2l...|\n",
            "|  3|       1|The Tales of Beed...|    12/4/08|http://amzn.to/2k...|\n",
            "|  4|       1|Harry Potter and ...|    10/4/16|http://amzn.to/2k...|\n",
            "|  5|       2|Informix 12.10 on...|    4/23/17|http://amzn.to/2i...|\n",
            "+---+--------+--------------------+-----------+--------------------+\n",
            "only showing top 5 rows\n",
            "\n"
          ]
        }
      ]
    }
  ],
  "metadata": {
    "kernelspec": {
      "display_name": "Python 3",
      "language": "python",
      "name": "python3"
    },
    "language_info": {
      "codemirror_mode": {
        "name": "ipython",
        "version": 2
      },
      "file_extension": ".py",
      "mimetype": "text/x-python",
      "name": "python",
      "nbconvert_exporter": "python",
      "pygments_lexer": "ipython2",
      "version": "2.7.6"
    },
    "colab": {
      "provenance": [],
      "include_colab_link": true
    }
  },
  "nbformat": 4,
  "nbformat_minor": 5
}